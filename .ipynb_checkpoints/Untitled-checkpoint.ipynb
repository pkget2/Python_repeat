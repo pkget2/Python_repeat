{
 "cells": [
  {
   "cell_type": "code",
   "execution_count": 1,
   "metadata": {},
   "outputs": [
    {
     "name": "stdout",
     "output_type": "stream",
     "text": [
      "Python 3.7.4\n"
     ]
    }
   ],
   "source": [
    "!python --version"
   ]
  },
  {
   "cell_type": "code",
   "execution_count": 2,
   "metadata": {
    "scrolled": true
   },
   "outputs": [
    {
     "data": {
      "text/plain": [
       "'C:\\\\Users\\\\gonge\\\\Desktop\\\\python_edu\\\\repeat'"
      ]
     },
     "execution_count": 2,
     "metadata": {},
     "output_type": "execute_result"
    }
   ],
   "source": [
    "pwd"
   ]
  },
  {
   "cell_type": "code",
   "execution_count": 3,
   "metadata": {},
   "outputs": [
    {
     "name": "stdout",
     "output_type": "stream",
     "text": [
      "sys.path = [\n",
      "    'C:\\\\Users\\\\gonge\\\\Desktop\\\\python_edu\\\\repeat',\n",
      "    'C:\\\\ProgramData\\\\Anaconda3\\\\python37.zip',\n",
      "    'C:\\\\ProgramData\\\\Anaconda3\\\\DLLs',\n",
      "    'C:\\\\ProgramData\\\\Anaconda3\\\\lib',\n",
      "    'C:\\\\ProgramData\\\\Anaconda3',\n",
      "    'C:\\\\ProgramData\\\\Anaconda3\\\\lib\\\\site-packages',\n",
      "    'C:\\\\ProgramData\\\\Anaconda3\\\\lib\\\\site-packages\\\\win32',\n",
      "    'C:\\\\ProgramData\\\\Anaconda3\\\\lib\\\\site-packages\\\\win32\\\\lib',\n",
      "    'C:\\\\ProgramData\\\\Anaconda3\\\\lib\\\\site-packages\\\\Pythonwin',\n",
      "]\n",
      "USER_BASE: 'C:\\\\Users\\\\gonge\\\\AppData\\\\Roaming\\\\Python' (doesn't exist)\n",
      "USER_SITE: 'C:\\\\Users\\\\gonge\\\\AppData\\\\Roaming\\\\Python\\\\Python37\\\\site-packages' (doesn't exist)\n",
      "ENABLE_USER_SITE: True\n"
     ]
    }
   ],
   "source": [
    "!python -m site"
   ]
  },
  {
   "cell_type": "code",
   "execution_count": 4,
   "metadata": {},
   "outputs": [
    {
     "name": "stdout",
     "output_type": "stream",
     "text": [
      "Requirement already satisfied: selenium in c:\\programdata\\anaconda3\\lib\\site-packages (3.141.0)\n",
      "Requirement already satisfied: urllib3 in c:\\programdata\\anaconda3\\lib\\site-packages (from selenium) (1.24.2)\n",
      "Note: you may need to restart the kernel to use updated packages.\n"
     ]
    }
   ],
   "source": [
    "pip install selenium"
   ]
  },
  {
   "cell_type": "code",
   "execution_count": 5,
   "metadata": {},
   "outputs": [],
   "source": [
    "from selenium import webdriver\n",
    "from selenium.webdriver import ActionChains as AC\n",
    "from tqdm import tqdm\n",
    "from tqdm import tqdm_notebook\n",
    "import re\n",
    "from time import sleep\n",
    "import time"
   ]
  },
  {
   "cell_type": "code",
   "execution_count": 6,
   "metadata": {},
   "outputs": [
    {
     "name": "stdout",
     "output_type": "stream",
     "text": [
      "Keywords are : 봄제철음식, 봄제철회\n"
     ]
    }
   ],
   "source": [
    "keywords = [\"봄제철음식\",\"봄제철회\"]\n",
    "print(\"Keywords are : \" + keywords[0] + \", \" + keywords[1])"
   ]
  },
  {
   "cell_type": "code",
   "execution_count": null,
   "metadata": {},
   "outputs": [],
   "source": [
    "'''for keyword in keywords:\n",
    "    driver = webdriver.Chrome(\"Chromedriver.exe\")  \n",
    "    driver.get(\"https://www.instagram.com/explore/tags/{0}/?hl=ko\".format(keyword)) \n",
    "    time.sleep(3)\n",
    "    \n",
    "    dict={}\n",
    "    \n",
    "\n",
    "    CSS_tran=\"div.v1Nh3.kIKUG._bz0w\"                         \n",
    "    tran_button = driver.find_element_by_css_selector(CSS_tran)\n",
    "    AC(driver).move_to_element(tran_button).click().perform()  \n",
    "    time.sleep(1)   \n",
    "   \n",
    "    len_insta = 10   # 몇 개 글을 크롤링 할건지\n",
    "\n",
    "    for i in tqdm_notebook(range(0, len_insta)):\n",
    "        \n",
    "        if i%10==0:\n",
    "            print('이것은 {0}번째 글입니다.'.format(i))    \n",
    "        else:\n",
    "            pass\n",
    "\n",
    "        target_info = {}    \n",
    "        \n",
    "        try:    \n",
    "            overlays1 = \"div.GRtmf.wymO0\"                   # 사진창 속 사진\n",
    "            img = driver.find_element_by_css_selector(overlays1)    # 사진 선택\n",
    "            pic = img.get_attribute('src')                          # 사진 url 크롤링 완료\n",
    "            target_info['picture'] = pic\n",
    "            print(target_info)\n",
    "\n",
    "            # 날짜(date) 크롤링 시작\n",
    "            overlays2 = \"div._1o9PC.Nzb55\"                  # 날짜 지정\n",
    "            datum2 = driver.find_element_by_css_selector(overlays2)     # 날짜 선택\n",
    "            date = datum2.get_attribute('title')\n",
    "    #         get_attribute('title')                                    # 날짜 크롤링 완료\n",
    "            target_info['date'] = date\n",
    "            print(target_info)\n",
    "            # print(datalist)\n",
    "            \n",
    "            overlays3 = \".Nm9Fw\"                                        # 리뷰창 속 날짜\n",
    "            datum3 = driver.find_element_by_css_selector(overlays3)     # 리뷰 선택\n",
    "            like = datum3.text                                          # 좋아요 크롤링 완료\n",
    "            target_info['like'] = like\n",
    "            # print(target_info)\n",
    "\n",
    "            # 해시태그(tag) 크롤링 시작,   # 정규표현식\n",
    "            overlays4 = \".C7I1f.X7jCj\"                                  # 태그 지정\n",
    "            datum4 = driver.find_element_by_css_selector(overlays4)     # 태그 선택\n",
    "            tag_raw = datum4.text\n",
    "            tags = re.findall('#[A-Za-z0-9가-힣]+', tag_raw)            # \"\"#OOO\"만 뽑아오기(OOO: 한글,숫자,영어,_)\n",
    "            tag = ' '.join(tags).replace(\"#\",\"\")                        # \"#\" 제거\n",
    "            target_info['tag'] = tag\n",
    "            # print(target_info)\n",
    "\n",
    "            dict[i] = target_info            # 토탈 딕셔너리로 만들기\n",
    "\n",
    "            print(\"{0}\".format(i), tag)\n",
    "\n",
    "            # 다음장 클릭\n",
    "            hit=0\n",
    "            while hit < 1:                         # 몇 번에 한번씩 크롤링할 것인지 숫자 지정\n",
    "                hit+=1\n",
    "                CSS_tran2=\"a._65Bje.coreSpriteRightPaginationArrow\"             # 다음 버튼 정의\n",
    "                tran_button2 = driver.find_element_by_css_selector(CSS_tran2)  # 다음 버튼 find\n",
    "                AC(driver).move_to_element(tran_button2).click().perform()     # 다음 버튼 클릭\n",
    "                time.sleep(2)\n",
    "            \n",
    "        except:  # 에러가 나면 다음장을 클릭해라\n",
    "            # 다음장 클릭\n",
    "            CSS_tran2=\"a._65Bje.coreSpriteRightPaginationArrow\"             # 다음 버튼 정의\n",
    "            tran_button2 = driver.find_element_by_css_selector(CSS_tran2)  # 다음 버튼 find\n",
    "            AC(driver).move_to_element(tran_button2).click().perform()     # 다음 버튼 클릭\n",
    "            time.sleep(2)\n",
    "\n",
    "    print(dict)\n",
    "\n",
    "    # 판다스로 만들기 : 엑셀(테이블) 형식으로 만들기\n",
    "    import pandas as pd\n",
    "    result_df = pd.DataFrame.from_dict(dict, 'index')\n",
    "\n",
    "#     n = result_df['picture'].count()\n",
    "\n",
    "    # 엑셀 형식으로 저장\n",
    "    result_df.to_excel(\"data/studyroom({}).xlsx\".format(keyword), encoding='euc-kr')'''"
   ]
  },
  {
   "cell_type": "code",
   "execution_count": 11,
   "metadata": {},
   "outputs": [],
   "source": [
    "for keyword in keywords:\n",
    "    driver = webdriver.Chrome(\"Chromedriver.exe\")  \n",
    "    driver.get(\"https://www.instagram.com/explore/tags/{0}/?hl=ko\".format(keyword)) \n",
    "    time.sleep(3)\n",
    "    "
   ]
  },
  {
   "cell_type": "code",
   "execution_count": 12,
   "metadata": {},
   "outputs": [],
   "source": [
    "    dict={}\n",
    "    \n",
    "\n",
    "    CSS_tran=\"div.v1Nh3.kIKUG._bz0w\"                         \n",
    "    tran_button = driver.find_element_by_css_selector(CSS_tran)\n",
    "    AC(driver).move_to_element(tran_button).click().perform()  \n",
    "    time.sleep(1)   \n",
    "   "
   ]
  },
  {
   "cell_type": "code",
   "execution_count": 15,
   "metadata": {},
   "outputs": [
    {
     "data": {
      "application/vnd.jupyter.widget-view+json": {
       "model_id": "aa80fbce25724e5d89aafd0effe99e3a",
       "version_major": 2,
       "version_minor": 0
      },
      "text/plain": [
       "HBox(children=(IntProgress(value=0, max=10), HTML(value='')))"
      ]
     },
     "metadata": {},
     "output_type": "display_data"
    },
    {
     "name": "stdout",
     "output_type": "stream",
     "text": [
      "{'picture': None}\n",
      "{'picture': None, 'like': '좋아요 194개'}\n",
      "{'picture': None}\n",
      "{'picture': None, 'like': '좋아요 101개'}\n",
      "{'picture': None}\n",
      "{'picture': None, 'like': '좋아요 25개'}\n",
      "{'picture': None}\n",
      "{'picture': None, 'like': '좋아요 36개'}\n",
      "{'picture': None}\n",
      "{'picture': None, 'like': '좋아요 16개'}\n",
      "{'picture': None}\n",
      "{'picture': None}\n",
      "{'picture': None, 'like': '좋아요 10개'}\n",
      "{'picture': None}\n",
      "{'picture': None, 'like': '좋아요 12개'}\n",
      "{'picture': None}\n",
      "{'picture': None, 'like': '좋아요 14개'}\n",
      "{'picture': None}\n",
      "{'picture': None, 'like': '좋아요 88개'}\n",
      "\n"
     ]
    }
   ],
   "source": [
    "    len_insta = 10   # 몇 개 글을 크롤링 할건지\n",
    "\n",
    "    for i in tqdm_notebook(range(0, len_insta)):    # range : 숫자가 1씩 증가하는 리스트를 만드는 함수\n",
    "    \n",
    "        target_info = {}                                            # 사진별 데이터를 담을 딕셔너리 생성\n",
    "    \n",
    "        try:    # 크롤링을 시도해라.\n",
    "            # 사진(pic) 크롤링 시작\n",
    "    \n",
    "            target_info = {}                                  # 사진별 데이터를 담을 딕셔너리 생성\n",
    "    \n",
    "            overlays1 = \"._9AhH0\"                   # 사진창 속 사진\n",
    "            img = driver.find_element_by_css_selector(overlays1)    # 사진 선택\n",
    "            pic = img.get_attribute('src')                          # 사진 url 크롤링 완료 # src의 url가져와라.\n",
    "            target_info['picture'] = pic\n",
    "            print(target_info)\n",
    "    \n",
    "            overlays3 = \".Nm9Fw\"                                        # 리뷰창 속 날짜\n",
    "            datum3 = driver.find_element_by_css_selector(overlays3)     # 리뷰 선택\n",
    "            like = datum3.text                                          # 좋아요 크롤링 완료\n",
    "            target_info['like'] = like\n",
    "            print(target_info)\n",
    "            hit=0\n",
    "            while hit < 1:                         # 몇 번에 한번씩 크롤링할 것인지 숫자 지정\n",
    "                hit+=1\n",
    "                CSS_tran2=\"a._65Bje.coreSpriteRightPaginationArrow\"             # 다음 버튼 정의\n",
    "                tran_button2 = driver.find_element_by_css_selector(CSS_tran2)  # 다음 버튼 find\n",
    "                AC(driver).move_to_element(tran_button2).click().perform()     # 다음 버튼 클릭\n",
    "                time.sleep(2)\n",
    "            \n",
    "        except:\n",
    "                CSS_tran2=\"a._65Bje.coreSpriteRightPaginationArrow\"             # 다음 버튼 정의\n",
    "                tran_button2 = driver.find_element_by_css_selector(CSS_tran2)  # 다음 버튼 find\n",
    "                AC(driver).move_to_element(tran_button2).click().perform()     # 다음 버튼 클릭\n",
    "                time.sleep(2)\n",
    "\n",
    "    import pandas as pd\n",
    "    result_df = pd.DataFrame.from_dict(dict, 'index')\n",
    "\n",
    "#     n = result_df['picture'].count()\n",
    "\n",
    "    # 엑셀 형식으로 저장\n",
    "    result_df.to_excel(\"data/studyroom({}).xlsx\".format(keyword), encoding='euc-kr')"
   ]
  },
  {
   "cell_type": "code",
   "execution_count": 33,
   "metadata": {},
   "outputs": [
    {
     "name": "stdout",
     "output_type": "stream",
     "text": [
      "{}\n"
     ]
    }
   ],
   "source": [
    "print(target_info)"
   ]
  },
  {
   "cell_type": "code",
   "execution_count": 26,
   "metadata": {},
   "outputs": [],
   "source": [
    "# 이미지들 image 폴더에 다운받기\n",
    "import urllib.request\n",
    "\n",
    "for i in range(0, 50):\n",
    "    try:\n",
    "        index=result_df['picture'][i]\n",
    "        urllib.request.urlretrieve(index, \"image/{0}_{1}.jpg\".format(date, i))\n",
    "    except:\n",
    "        pass"
   ]
  },
  {
   "cell_type": "code",
   "execution_count": null,
   "metadata": {},
   "outputs": [],
   "source": []
  }
 ],
 "metadata": {
  "kernelspec": {
   "display_name": "Python 3",
   "language": "python",
   "name": "python3"
  },
  "language_info": {
   "codemirror_mode": {
    "name": "ipython",
    "version": 3
   },
   "file_extension": ".py",
   "mimetype": "text/x-python",
   "name": "python",
   "nbconvert_exporter": "python",
   "pygments_lexer": "ipython3",
   "version": "3.7.4"
  }
 },
 "nbformat": 4,
 "nbformat_minor": 2
}
